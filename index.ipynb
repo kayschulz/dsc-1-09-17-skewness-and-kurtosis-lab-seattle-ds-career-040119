{
 "cells": [
  {
   "cell_type": "markdown",
   "metadata": {},
   "source": [
    "# Skewness and Kurtosis - Lab"
   ]
  },
  {
   "cell_type": "markdown",
   "metadata": {},
   "source": [
    "## Introduction\n",
    "\n",
    "In this lab, we shall look at calculating skewness and kurtosis for a given dataset in python and SciPy. \n",
    "\n",
    "## Objectives\n",
    "You will be able to:\n",
    "* Measure, visualize, and interpret the kurtosis of a dataset\n",
    "* Measure, visualize, and interpret the skewness of a dataset"
   ]
  },
  {
   "cell_type": "markdown",
   "metadata": {},
   "source": [
    "## Bring in SciPy\n",
    "In the previous lesson, we have seen formulas for calculating skewness and kurtosis for a given dataset. Scipy comes packaged with these functions and  provides an easy way to calculate these two quantities, see [scipy.stats.kurtosis](https://docs.scipy.org/doc/scipy/reference/generated/scipy.stats.kurtosis.html#scipy.stats.kurtosis) and [scipy.stats.skew](scipy.stats.skew). Check out the official SciPy documentation for digging deeper into this. Right now we can use format: \n",
    "> **scipy.stats.kurtosis(x)**\n",
    "\n",
    "> **scipy.stats.skew(x)**\n",
    "\n",
    "Where x is a random continuous variable. \n",
    "\n",
    "We shall generate two synthetic datasets and measure/visualize and compare their skew and kurtosis in this lab. So lets get to it."
   ]
  },
  {
   "cell_type": "code",
   "execution_count": 1,
   "metadata": {},
   "outputs": [],
   "source": [
    "# Import required libraries\n",
    "import numpy as np\n",
    "import matplotlib.pyplot as plt\n",
    "\n",
    "from scipy.stats import kurtosis, skew"
   ]
  },
  {
   "cell_type": "markdown",
   "metadata": {},
   "source": [
    "## Take 1\n",
    "Perform following steps\n",
    "* Generate a random normal variable `x_random` in numpy with 10,000 values. Set the mean value to 0 and standard deviation to 2\n",
    "* Plot a histogram for data, set bins to `auto` (default). \n",
    "* Calculate the skewness and kurtosis for this data distribution using above functions. \n",
    "* Record your observations about calculated values and shape of the data. "
   ]
  },
  {
   "cell_type": "code",
   "execution_count": 2,
   "metadata": {},
   "outputs": [],
   "source": [
    "x_random = np.random.normal(0, 2, 100000)"
   ]
  },
  {
   "cell_type": "code",
   "execution_count": null,
   "metadata": {},
   "outputs": [],
   "source": [
    "%matplotlib inline"
   ]
  },
  {
   "cell_type": "code",
   "execution_count": 10,
   "metadata": {},
   "outputs": [
    {
     "data": {
      "text/plain": [
       "(array([1.000e+00, 0.000e+00, 0.000e+00, 0.000e+00, 0.000e+00, 0.000e+00,\n",
       "        1.000e+00, 2.000e+00, 1.000e+00, 0.000e+00, 2.000e+00, 0.000e+00,\n",
       "        4.000e+00, 4.000e+00, 2.000e+00, 5.000e+00, 8.000e+00, 5.000e+00,\n",
       "        7.000e+00, 1.100e+01, 1.300e+01, 1.200e+01, 3.000e+01, 2.100e+01,\n",
       "        2.900e+01, 2.800e+01, 3.600e+01, 5.000e+01, 4.800e+01, 7.800e+01,\n",
       "        8.700e+01, 1.030e+02, 9.400e+01, 9.400e+01, 1.160e+02, 1.470e+02,\n",
       "        1.730e+02, 2.080e+02, 2.110e+02, 2.650e+02, 2.910e+02, 3.120e+02,\n",
       "        3.620e+02, 3.820e+02, 4.250e+02, 5.090e+02, 5.070e+02, 5.840e+02,\n",
       "        6.210e+02, 7.640e+02, 7.490e+02, 8.280e+02, 9.090e+02, 9.460e+02,\n",
       "        1.018e+03, 1.137e+03, 1.286e+03, 1.341e+03, 1.357e+03, 1.443e+03,\n",
       "        1.539e+03, 1.561e+03, 1.713e+03, 1.685e+03, 1.847e+03, 1.921e+03,\n",
       "        1.909e+03, 2.089e+03, 2.074e+03, 2.201e+03, 2.231e+03, 2.275e+03,\n",
       "        2.284e+03, 2.237e+03, 2.258e+03, 2.345e+03, 2.315e+03, 2.328e+03,\n",
       "        2.319e+03, 2.226e+03, 2.231e+03, 2.225e+03, 2.084e+03, 2.059e+03,\n",
       "        2.010e+03, 1.881e+03, 1.961e+03, 1.842e+03, 1.764e+03, 1.699e+03,\n",
       "        1.605e+03, 1.481e+03, 1.455e+03, 1.379e+03, 1.279e+03, 1.307e+03,\n",
       "        1.144e+03, 1.095e+03, 9.490e+02, 9.490e+02, 8.790e+02, 7.760e+02,\n",
       "        7.160e+02, 6.450e+02, 5.890e+02, 6.220e+02, 4.570e+02, 4.880e+02,\n",
       "        4.440e+02, 3.800e+02, 3.290e+02, 2.910e+02, 2.590e+02, 2.130e+02,\n",
       "        2.080e+02, 1.830e+02, 1.560e+02, 1.240e+02, 1.200e+02, 1.020e+02,\n",
       "        8.400e+01, 8.100e+01, 7.700e+01, 6.000e+01, 4.700e+01, 3.500e+01,\n",
       "        3.500e+01, 3.200e+01, 3.000e+01, 1.900e+01, 1.700e+01, 9.000e+00,\n",
       "        1.300e+01, 1.400e+01, 1.100e+01, 6.000e+00, 5.000e+00, 6.000e+00,\n",
       "        3.000e+00, 1.000e+00, 1.000e+00, 3.000e+00, 0.000e+00, 1.000e+00,\n",
       "        0.000e+00, 2.000e+00, 0.000e+00, 0.000e+00, 2.000e+00, 1.000e+00,\n",
       "        0.000e+00, 0.000e+00, 0.000e+00, 0.000e+00, 0.000e+00, 1.000e+00]),\n",
       " array([-8.72791046e+00, -8.61313307e+00, -8.49835568e+00, -8.38357829e+00,\n",
       "        -8.26880090e+00, -8.15402351e+00, -8.03924612e+00, -7.92446873e+00,\n",
       "        -7.80969134e+00, -7.69491395e+00, -7.58013656e+00, -7.46535917e+00,\n",
       "        -7.35058178e+00, -7.23580439e+00, -7.12102700e+00, -7.00624961e+00,\n",
       "        -6.89147222e+00, -6.77669483e+00, -6.66191744e+00, -6.54714005e+00,\n",
       "        -6.43236266e+00, -6.31758527e+00, -6.20280788e+00, -6.08803049e+00,\n",
       "        -5.97325310e+00, -5.85847571e+00, -5.74369832e+00, -5.62892093e+00,\n",
       "        -5.51414354e+00, -5.39936615e+00, -5.28458876e+00, -5.16981137e+00,\n",
       "        -5.05503398e+00, -4.94025659e+00, -4.82547920e+00, -4.71070180e+00,\n",
       "        -4.59592441e+00, -4.48114702e+00, -4.36636963e+00, -4.25159224e+00,\n",
       "        -4.13681485e+00, -4.02203746e+00, -3.90726007e+00, -3.79248268e+00,\n",
       "        -3.67770529e+00, -3.56292790e+00, -3.44815051e+00, -3.33337312e+00,\n",
       "        -3.21859573e+00, -3.10381834e+00, -2.98904095e+00, -2.87426356e+00,\n",
       "        -2.75948617e+00, -2.64470878e+00, -2.52993139e+00, -2.41515400e+00,\n",
       "        -2.30037661e+00, -2.18559922e+00, -2.07082183e+00, -1.95604444e+00,\n",
       "        -1.84126705e+00, -1.72648966e+00, -1.61171227e+00, -1.49693488e+00,\n",
       "        -1.38215749e+00, -1.26738010e+00, -1.15260271e+00, -1.03782532e+00,\n",
       "        -9.23047934e-01, -8.08270544e-01, -6.93493154e-01, -5.78715764e-01,\n",
       "        -4.63938374e-01, -3.49160984e-01, -2.34383594e-01, -1.19606204e-01,\n",
       "        -4.82881436e-03,  1.09948576e-01,  2.24725966e-01,  3.39503356e-01,\n",
       "         4.54280746e-01,  5.69058136e-01,  6.83835526e-01,  7.98612916e-01,\n",
       "         9.13390306e-01,  1.02816770e+00,  1.14294509e+00,  1.25772248e+00,\n",
       "         1.37249987e+00,  1.48727726e+00,  1.60205465e+00,  1.71683204e+00,\n",
       "         1.83160943e+00,  1.94638682e+00,  2.06116421e+00,  2.17594160e+00,\n",
       "         2.29071899e+00,  2.40549638e+00,  2.52027377e+00,  2.63505116e+00,\n",
       "         2.74982855e+00,  2.86460594e+00,  2.97938333e+00,  3.09416072e+00,\n",
       "         3.20893811e+00,  3.32371550e+00,  3.43849289e+00,  3.55327028e+00,\n",
       "         3.66804767e+00,  3.78282506e+00,  3.89760245e+00,  4.01237984e+00,\n",
       "         4.12715723e+00,  4.24193462e+00,  4.35671201e+00,  4.47148940e+00,\n",
       "         4.58626679e+00,  4.70104418e+00,  4.81582157e+00,  4.93059896e+00,\n",
       "         5.04537635e+00,  5.16015374e+00,  5.27493113e+00,  5.38970852e+00,\n",
       "         5.50448591e+00,  5.61926330e+00,  5.73404069e+00,  5.84881808e+00,\n",
       "         5.96359547e+00,  6.07837286e+00,  6.19315025e+00,  6.30792764e+00,\n",
       "         6.42270503e+00,  6.53748242e+00,  6.65225981e+00,  6.76703720e+00,\n",
       "         6.88181459e+00,  6.99659198e+00,  7.11136937e+00,  7.22614676e+00,\n",
       "         7.34092415e+00,  7.45570154e+00,  7.57047893e+00,  7.68525632e+00,\n",
       "         7.80003371e+00,  7.91481110e+00,  8.02958849e+00,  8.14436588e+00,\n",
       "         8.25914327e+00,  8.37392066e+00,  8.48869805e+00,  8.60347544e+00,\n",
       "         8.71825283e+00,  8.83303022e+00,  8.94780761e+00,  9.06258500e+00,\n",
       "         9.17736239e+00]),\n",
       " <a list of 156 Patch objects>)"
      ]
     },
     "execution_count": 10,
     "metadata": {},
     "output_type": "execute_result"
    },
    {
     "data": {
      "image/png": "[encoded data removed]",
      "text/plain": [
       "<Figure size 432x288 with 1 Axes>"
      ]
     },
     "metadata": {
      "needs_background": "light"
     },
     "output_type": "display_data"
    }
   ],
   "source": [
    "plt.hist(x_random, bins='auto')"
   ]
  },
  {
   "cell_type": "code",
   "execution_count": 7,
   "metadata": {},
   "outputs": [
    {
     "data": {
      "text/plain": [
       "-0.0001115990470799133"
      ]
     },
     "execution_count": 7,
     "metadata": {},
     "output_type": "execute_result"
    }
   ],
   "source": [
    "kurtosis(x_random)"
   ]
  },
  {
   "cell_type": "code",
   "execution_count": 8,
   "metadata": {},
   "outputs": [
    {
     "data": {
      "text/plain": [
       "0.009096060072086628"
      ]
     },
     "execution_count": 8,
     "metadata": {},
     "output_type": "execute_result"
    }
   ],
   "source": [
    "skew(x_random)"
   ]
  },
  {
   "cell_type": "code",
   "execution_count": null,
   "metadata": {
    "collapsed": true
   },
   "outputs": [],
   "source": [
    "# Your observations here \n",
    "\n",
    "\n",
    "\n",
    "\n",
    "\n",
    "\n",
    "#"
   ]
  },
  {
   "cell_type": "markdown",
   "metadata": {},
   "source": [
    "## Take 2\n",
    "\n",
    "Let's generate another distribution "
   ]
  },
  {
   "cell_type": "code",
   "execution_count": 9,
   "metadata": {},
   "outputs": [],
   "source": [
    "x = np.linspace( -5, 5, 10000 )\n",
    "y = 1./(np.sqrt(2.*np.pi)) * np.exp( -.5*(x)**2  )  # normal distribution"
   ]
  },
  {
   "cell_type": "markdown",
   "metadata": {},
   "source": [
    "Just like above, perform following steps\n",
    "\n",
    "* Plot a histogram for data (y), set bins to auto (default).\n",
    "* Calculate the skewness and kurtosis for this data distribution using above functions.\n",
    "* Record your observations about calculated values and shape of the data."
   ]
  },
  {
   "cell_type": "code",
   "execution_count": 11,
   "metadata": {},
   "outputs": [
    {
     "name": "stdout",
     "output_type": "stream",
     "text": [
      "Skewness = 1.109511549276228\n",
      "kurtosis = -0.31039027765889804\n"
     ]
    },
    {
     "data": {
      "image/png": "[encoded data removed]",
      "text/plain": [
       "<matplotlib.figure.Figure at 0x1a13d45e10>"
      ]
     },
     "metadata": {},
     "output_type": "display_data"
    }
   ],
   "source": [
    "\n",
    "\n",
    "# Skewness = 1.109511549276228\n",
    "# kurtosis = -0.31039027765889804"
   ]
  },
  {
   "cell_type": "code",
   "execution_count": null,
   "metadata": {},
   "outputs": [],
   "source": [
    "# Your observations here \n",
    "\n",
    "\n",
    "\n",
    "\n",
    "\n",
    "\n",
    "\n",
    "#"
   ]
  },
  {
   "cell_type": "markdown",
   "metadata": {},
   "source": [
    "## Level up (Optional)"
   ]
  },
  {
   "cell_type": "markdown",
   "metadata": {},
   "source": [
    "Use the formulas given in th previous lesson to calculate skewness and kurtosis with numpy only. Compare your results to the ones shown using Scipy. Do you see any differences in the results? Try at least one other method to calculate skewness and compare the results to previous ones. "
   ]
  },
  {
   "cell_type": "markdown",
   "metadata": {},
   "source": [
    "## Summary\n",
    "\n",
    "In this lesson we learned how to calculate, visualize and analyze the skewness and kurtosis for any given distribution. We worked with synthetic datasets at this stage to get the concepts cleared up. Later we shall try these techniques on real datasets to see if they are fit for analysis (or not). "
   ]
  }
 ],
 "metadata": {
  "kernelspec": {
   "display_name": "Python 3",
   "language": "python",
   "name": "python3"
  },
  "language_info": {
   "codemirror_mode": {
    "name": "ipython",
    "version": 3
   },
   "file_extension": ".py",
   "mimetype": "text/x-python",
   "name": "python",
   "nbconvert_exporter": "python",
   "pygments_lexer": "ipython3",
   "version": "3.6.6"
  }
 },
 "nbformat": 4,
 "nbformat_minor": 2
}
